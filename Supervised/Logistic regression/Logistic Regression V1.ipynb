{
 "cells": [
  {
   "cell_type": "markdown",
   "metadata": {},
   "source": [
    "# Theory"
   ]
  },
  {
   "cell_type": "markdown",
   "metadata": {},
   "source": [
    "Logistic Regression is a statistical method used for binary classification tasks, where the goal is to predict the probability (OUTPUTS PROBABILITIES) that an instance belongs to a particular class. Despite its name, logistic regression is used for classification, not regression.\n",
    "\n",
    "Logistic regression is a simple yet effective algorithm for binary classification problems, especially when the relationship between features and the target variable is approximately linear. However, it might struggle with complex relationships that can't be captured well with a linear decision boundary."
   ]
  },
  {
   "cell_type": "markdown",
   "metadata": {},
   "source": [
    "# Assumptions"
   ]
  },
  {
   "cell_type": "markdown",
   "metadata": {},
   "source": [
    "The data here has been preprocessed the data, including handling missing values, encoding categorical variables."
   ]
  },
  {
   "cell_type": "markdown",
   "metadata": {},
   "source": [
    "# Read in data\n",
    "\n",
    "data can be downloaded from here: https://www.kaggle.com/datasets/fivethirtyeight/the-ultimate-halloween-candy-power-ranking"
   ]
  },
  {
   "cell_type": "code",
   "execution_count": 35,
   "metadata": {},
   "outputs": [
    {
     "name": "stdout",
     "output_type": "stream",
     "text": [
      "  competitorname  chocolate  fruity  caramel  peanutyalmondy  nougat  \\\n",
      "0      100 Grand          1       0        1               0       0   \n",
      "1   3 Musketeers          1       0        0               0       1   \n",
      "2       One dime          0       0        0               0       0   \n",
      "\n",
      "   crispedricewafer  hard  bar  pluribus  sugarpercent  pricepercent  \\\n",
      "0                 1     0    1         0         0.732         0.860   \n",
      "1                 0     0    1         0         0.604         0.511   \n",
      "2                 0     0    0         0         0.011         0.116   \n",
      "\n",
      "   winpercent  \n",
      "0   66.971725  \n",
      "1   67.602936  \n",
      "2   32.261086  \n",
      "<class 'pandas.core.frame.DataFrame'>\n",
      "RangeIndex: 85 entries, 0 to 84\n",
      "Data columns (total 13 columns):\n",
      " #   Column            Non-Null Count  Dtype  \n",
      "---  ------            --------------  -----  \n",
      " 0   competitorname    85 non-null     object \n",
      " 1   chocolate         85 non-null     int64  \n",
      " 2   fruity            85 non-null     int64  \n",
      " 3   caramel           85 non-null     int64  \n",
      " 4   peanutyalmondy    85 non-null     int64  \n",
      " 5   nougat            85 non-null     int64  \n",
      " 6   crispedricewafer  85 non-null     int64  \n",
      " 7   hard              85 non-null     int64  \n",
      " 8   bar               85 non-null     int64  \n",
      " 9   pluribus          85 non-null     int64  \n",
      " 10  sugarpercent      85 non-null     float64\n",
      " 11  pricepercent      85 non-null     float64\n",
      " 12  winpercent        85 non-null     float64\n",
      "dtypes: float64(3), int64(9), object(1)\n",
      "memory usage: 8.8+ KB\n"
     ]
    },
    {
     "data": {
      "text/html": [
       "<div>\n",
       "<style scoped>\n",
       "    .dataframe tbody tr th:only-of-type {\n",
       "        vertical-align: middle;\n",
       "    }\n",
       "\n",
       "    .dataframe tbody tr th {\n",
       "        vertical-align: top;\n",
       "    }\n",
       "\n",
       "    .dataframe thead th {\n",
       "        text-align: right;\n",
       "    }\n",
       "</style>\n",
       "<table border=\"1\" class=\"dataframe\">\n",
       "  <thead>\n",
       "    <tr style=\"text-align: right;\">\n",
       "      <th></th>\n",
       "      <th>chocolate</th>\n",
       "      <th>fruity</th>\n",
       "      <th>caramel</th>\n",
       "      <th>peanutyalmondy</th>\n",
       "      <th>nougat</th>\n",
       "      <th>crispedricewafer</th>\n",
       "      <th>hard</th>\n",
       "      <th>bar</th>\n",
       "      <th>pluribus</th>\n",
       "      <th>sugarpercent</th>\n",
       "      <th>pricepercent</th>\n",
       "      <th>winpercent</th>\n",
       "    </tr>\n",
       "  </thead>\n",
       "  <tbody>\n",
       "    <tr>\n",
       "      <th>count</th>\n",
       "      <td>85.000000</td>\n",
       "      <td>85.000000</td>\n",
       "      <td>85.000000</td>\n",
       "      <td>85.000000</td>\n",
       "      <td>85.000000</td>\n",
       "      <td>85.000000</td>\n",
       "      <td>85.000000</td>\n",
       "      <td>85.000000</td>\n",
       "      <td>85.000000</td>\n",
       "      <td>85.000000</td>\n",
       "      <td>85.000000</td>\n",
       "      <td>85.000000</td>\n",
       "    </tr>\n",
       "    <tr>\n",
       "      <th>mean</th>\n",
       "      <td>0.435294</td>\n",
       "      <td>0.447059</td>\n",
       "      <td>0.164706</td>\n",
       "      <td>0.164706</td>\n",
       "      <td>0.082353</td>\n",
       "      <td>0.082353</td>\n",
       "      <td>0.176471</td>\n",
       "      <td>0.247059</td>\n",
       "      <td>0.517647</td>\n",
       "      <td>0.478647</td>\n",
       "      <td>0.468882</td>\n",
       "      <td>50.316764</td>\n",
       "    </tr>\n",
       "    <tr>\n",
       "      <th>std</th>\n",
       "      <td>0.498738</td>\n",
       "      <td>0.500140</td>\n",
       "      <td>0.373116</td>\n",
       "      <td>0.373116</td>\n",
       "      <td>0.276533</td>\n",
       "      <td>0.276533</td>\n",
       "      <td>0.383482</td>\n",
       "      <td>0.433861</td>\n",
       "      <td>0.502654</td>\n",
       "      <td>0.282778</td>\n",
       "      <td>0.285740</td>\n",
       "      <td>14.714357</td>\n",
       "    </tr>\n",
       "    <tr>\n",
       "      <th>min</th>\n",
       "      <td>0.000000</td>\n",
       "      <td>0.000000</td>\n",
       "      <td>0.000000</td>\n",
       "      <td>0.000000</td>\n",
       "      <td>0.000000</td>\n",
       "      <td>0.000000</td>\n",
       "      <td>0.000000</td>\n",
       "      <td>0.000000</td>\n",
       "      <td>0.000000</td>\n",
       "      <td>0.011000</td>\n",
       "      <td>0.011000</td>\n",
       "      <td>22.445341</td>\n",
       "    </tr>\n",
       "    <tr>\n",
       "      <th>25%</th>\n",
       "      <td>0.000000</td>\n",
       "      <td>0.000000</td>\n",
       "      <td>0.000000</td>\n",
       "      <td>0.000000</td>\n",
       "      <td>0.000000</td>\n",
       "      <td>0.000000</td>\n",
       "      <td>0.000000</td>\n",
       "      <td>0.000000</td>\n",
       "      <td>0.000000</td>\n",
       "      <td>0.220000</td>\n",
       "      <td>0.255000</td>\n",
       "      <td>39.141056</td>\n",
       "    </tr>\n",
       "    <tr>\n",
       "      <th>50%</th>\n",
       "      <td>0.000000</td>\n",
       "      <td>0.000000</td>\n",
       "      <td>0.000000</td>\n",
       "      <td>0.000000</td>\n",
       "      <td>0.000000</td>\n",
       "      <td>0.000000</td>\n",
       "      <td>0.000000</td>\n",
       "      <td>0.000000</td>\n",
       "      <td>1.000000</td>\n",
       "      <td>0.465000</td>\n",
       "      <td>0.465000</td>\n",
       "      <td>47.829754</td>\n",
       "    </tr>\n",
       "    <tr>\n",
       "      <th>75%</th>\n",
       "      <td>1.000000</td>\n",
       "      <td>1.000000</td>\n",
       "      <td>0.000000</td>\n",
       "      <td>0.000000</td>\n",
       "      <td>0.000000</td>\n",
       "      <td>0.000000</td>\n",
       "      <td>0.000000</td>\n",
       "      <td>0.000000</td>\n",
       "      <td>1.000000</td>\n",
       "      <td>0.732000</td>\n",
       "      <td>0.651000</td>\n",
       "      <td>59.863998</td>\n",
       "    </tr>\n",
       "    <tr>\n",
       "      <th>max</th>\n",
       "      <td>1.000000</td>\n",
       "      <td>1.000000</td>\n",
       "      <td>1.000000</td>\n",
       "      <td>1.000000</td>\n",
       "      <td>1.000000</td>\n",
       "      <td>1.000000</td>\n",
       "      <td>1.000000</td>\n",
       "      <td>1.000000</td>\n",
       "      <td>1.000000</td>\n",
       "      <td>0.988000</td>\n",
       "      <td>0.976000</td>\n",
       "      <td>84.180290</td>\n",
       "    </tr>\n",
       "  </tbody>\n",
       "</table>\n",
       "</div>"
      ],
      "text/plain": [
       "       chocolate     fruity    caramel  peanutyalmondy     nougat  \\\n",
       "count  85.000000  85.000000  85.000000       85.000000  85.000000   \n",
       "mean    0.435294   0.447059   0.164706        0.164706   0.082353   \n",
       "std     0.498738   0.500140   0.373116        0.373116   0.276533   \n",
       "min     0.000000   0.000000   0.000000        0.000000   0.000000   \n",
       "25%     0.000000   0.000000   0.000000        0.000000   0.000000   \n",
       "50%     0.000000   0.000000   0.000000        0.000000   0.000000   \n",
       "75%     1.000000   1.000000   0.000000        0.000000   0.000000   \n",
       "max     1.000000   1.000000   1.000000        1.000000   1.000000   \n",
       "\n",
       "       crispedricewafer       hard        bar   pluribus  sugarpercent  \\\n",
       "count         85.000000  85.000000  85.000000  85.000000     85.000000   \n",
       "mean           0.082353   0.176471   0.247059   0.517647      0.478647   \n",
       "std            0.276533   0.383482   0.433861   0.502654      0.282778   \n",
       "min            0.000000   0.000000   0.000000   0.000000      0.011000   \n",
       "25%            0.000000   0.000000   0.000000   0.000000      0.220000   \n",
       "50%            0.000000   0.000000   0.000000   1.000000      0.465000   \n",
       "75%            0.000000   0.000000   0.000000   1.000000      0.732000   \n",
       "max            1.000000   1.000000   1.000000   1.000000      0.988000   \n",
       "\n",
       "       pricepercent  winpercent  \n",
       "count     85.000000   85.000000  \n",
       "mean       0.468882   50.316764  \n",
       "std        0.285740   14.714357  \n",
       "min        0.011000   22.445341  \n",
       "25%        0.255000   39.141056  \n",
       "50%        0.465000   47.829754  \n",
       "75%        0.651000   59.863998  \n",
       "max        0.976000   84.180290  "
      ]
     },
     "execution_count": 35,
     "metadata": {},
     "output_type": "execute_result"
    }
   ],
   "source": [
    "###parameter inputs\n",
    "# 1. specify the csv of data\n",
    "csv_data_path = 'candy-data.csv' #\n",
    "#############################################################\n",
    "\n",
    "import pandas as pd\n",
    "from sklearn.model_selection import train_test_split\n",
    "from sklearn.preprocessing import StandardScaler\n",
    "from sklearn.linear_model import LogisticRegression\n",
    "from sklearn.metrics import accuracy_score, classification_report\n",
    "\n",
    "# Load your preprocessed dataset\n",
    "data = pd.read_csv(csv_data_path)\n",
    "print(data.head(3))\n",
    "data.info()\n",
    "data.columns\n",
    "data.describe()"
   ]
  },
  {
   "cell_type": "markdown",
   "metadata": {},
   "source": [
    "**A bit about the data used in the example**\n",
    "\n",
    "candy-data.csv includes attributes for each candy along with its ranking. For binary variables, 1 means yes, 0 means no. The data contains the following fields:\n",
    "\n",
    "- chocolate: Does it contain chocolate?\n",
    "- fruity: Is it fruit flavored?\n",
    "- caramel: Is there caramel in the candy?\n",
    "- peanutalmondy: Does it contain peanuts, peanut butter or almonds?\n",
    "- nougat: Does it contain nougat?\n",
    "- crispedricewafer: Does it contain crisped rice, wafers, or a cookie component?\n",
    "- hard: Is it a hard candy?\n",
    "- bar: Is it a candy bar?\n",
    "- pluribus: Is it one of many candies in a bag or box?\n",
    "- sugarpercent: The percentile of sugar it falls under within the data set.\n",
    "- pricepercent: The unit price percentile compared to the rest of the set.\n",
    "- winpercent: The overall win percentage according to 269,000 matchups.\n",
    "\n",
    "\n",
    "**Inspiration:**\n",
    "- Which qualities are associated with higher rankings?\n",
    "- What’s the most popular candy? Least popular?\n",
    "- Can you recreate the 538 analysis of this dataset?"
   ]
  },
  {
   "cell_type": "markdown",
   "metadata": {},
   "source": [
    "# Define target and features"
   ]
  },
  {
   "cell_type": "code",
   "execution_count": 24,
   "metadata": {},
   "outputs": [
    {
     "name": "stdout",
     "output_type": "stream",
     "text": [
      "target is chocolate\n",
      "features is ['fruity', 'caramel', 'peanutyalmondy', 'nougat', 'crispedricewafer', 'hard', 'bar', 'pluribus', 'sugarpercent', 'pricepercent', 'winpercent']\n"
     ]
    }
   ],
   "source": [
    "data_model = data.select_dtypes([\"int\", float])\n",
    "\n",
    "col_names = list(data_model.columns)\n",
    "# Define features and target variable\n",
    "target = 'chocolate'\n",
    "\n",
    "col_names.remove(target)\n",
    "features = col_names  # Add relevant features\n",
    "\n",
    "print(f'target is {target}')\n",
    "print(f'features is {features}')"
   ]
  },
  {
   "cell_type": "markdown",
   "metadata": {},
   "source": [
    "# Train model and print out accuracy"
   ]
  },
  {
   "cell_type": "code",
   "execution_count": 27,
   "metadata": {},
   "outputs": [
    {
     "name": "stdout",
     "output_type": "stream",
     "text": [
      "Accuracy: 94.1%\n",
      "Classification Report:\n",
      "               precision    recall  f1-score   support\n",
      "\n",
      "           0       0.90      1.00      0.95         9\n",
      "           1       1.00      0.88      0.93         8\n",
      "\n",
      "    accuracy                           0.94        17\n",
      "   macro avg       0.95      0.94      0.94        17\n",
      "weighted avg       0.95      0.94      0.94        17\n",
      "\n"
     ]
    }
   ],
   "source": [
    "# Split the data into training and testing sets\n",
    "X = data[features]\n",
    "y = data[target]\n",
    "X_train, X_test, y_train, y_test = train_test_split(X, y, test_size=0.2, random_state=42)\n",
    "\n",
    "# Standardize the features\n",
    "scaler = StandardScaler()\n",
    "X_train_scaled = scaler.fit_transform(X_train)\n",
    "X_test_scaled = scaler.transform(X_test)\n",
    "\n",
    "# Build and train the logistic regression model\n",
    "model = LogisticRegression()\n",
    "model.fit(X_train_scaled, y_train)\n",
    "\n",
    "# Make predictions on the test set\n",
    "y_pred = model.predict(X_test_scaled)\n",
    "\n",
    "# Evaluate the model\n",
    "accuracy = accuracy_score(y_test, y_pred)\n",
    "classification_rep = classification_report(y_test, y_pred)\n",
    "\n",
    "print(f\"Accuracy: {accuracy:.1%}\")\n",
    "print(\"Classification Report:\\n\", classification_rep)\n"
   ]
  },
  {
   "cell_type": "markdown",
   "metadata": {},
   "source": [
    "# Predict probabilities"
   ]
  },
  {
   "cell_type": "code",
   "execution_count": 38,
   "metadata": {},
   "outputs": [
    {
     "data": {
      "text/plain": [
       "array([0.0608279 , 0.99585209, 0.35235753, 0.70207479, 0.0074967 ,\n",
       "       0.04945934, 0.48319588, 0.18246962, 0.11579795, 0.18936596,\n",
       "       0.94602592, 0.90434059, 0.69757115, 0.00829992, 0.04318229,\n",
       "       0.92676724, 0.91594076])"
      ]
     },
     "execution_count": 38,
     "metadata": {},
     "output_type": "execute_result"
    }
   ],
   "source": [
    "y_pred_probs = model.predict_proba(X_test_scaled)[:,1] # take all rows but take the second column index '1' representing the probabiltiies for the positive outcome\n",
    "y_pred_probs"
   ]
  },
  {
   "cell_type": "markdown",
   "metadata": {},
   "source": [
    "# Probability thresholds\n",
    "\n",
    "- by default, logistic regression threshold = 0.5\n",
    "- the threshold could be varied"
   ]
  },
  {
   "cell_type": "markdown",
   "metadata": {},
   "source": [
    "## ROC curve"
   ]
  },
  {
   "cell_type": "code",
   "execution_count": 1,
   "metadata": {},
   "outputs": [
    {
     "data": {
      "image/png": "[encoded data removed]",
      "text/plain": [
       "<IPython.core.display.Image object>"
      ]
     },
     "metadata": {},
     "output_type": "display_data"
    }
   ],
   "source": [
    "from IPython.display import Image, display\n",
    "display(Image(filename='ROC_curve.png'))"
   ]
  },
  {
   "cell_type": "code",
   "execution_count": 49,
   "metadata": {},
   "outputs": [
    {
     "name": "stdout",
     "output_type": "stream",
     "text": [
      "fpr: [0. 0. 0. 1.]\n",
      "tpr: [0.    0.125 1.    1.   ]\n",
      "thresholds: [1.99585209 0.99585209 0.48319588 0.0074967 ]\n"
     ]
    },
    {
     "data": {
      "application/javascript": "\n        if (window._pyforest_update_imports_cell) { window._pyforest_update_imports_cell('import sklearn\\nimport matplotlib.pyplot as plt'); }\n    ",
      "text/plain": [
       "<IPython.core.display.Javascript object>"
      ]
     },
     "metadata": {},
     "output_type": "display_data"
    },
    {
     "data": {
      "application/javascript": "\n        if (window._pyforest_update_imports_cell) { window._pyforest_update_imports_cell('import sklearn\\nimport matplotlib.pyplot as plt'); }\n    ",
      "text/plain": [
       "<IPython.core.display.Javascript object>"
      ]
     },
     "metadata": {},
     "output_type": "display_data"
    },
    {
     "data": {
      "application/javascript": "\n        if (window._pyforest_update_imports_cell) { window._pyforest_update_imports_cell('import sklearn\\nimport matplotlib.pyplot as plt'); }\n    ",
      "text/plain": [
       "<IPython.core.display.Javascript object>"
      ]
     },
     "metadata": {},
     "output_type": "display_data"
    },
    {
     "data": {
      "application/javascript": "\n        if (window._pyforest_update_imports_cell) { window._pyforest_update_imports_cell('import sklearn\\nimport matplotlib.pyplot as plt'); }\n    ",
      "text/plain": [
       "<IPython.core.display.Javascript object>"
      ]
     },
     "metadata": {},
     "output_type": "display_data"
    },
    {
     "data": {
      "application/javascript": "\n        if (window._pyforest_update_imports_cell) { window._pyforest_update_imports_cell('import sklearn\\nimport matplotlib.pyplot as plt'); }\n    ",
      "text/plain": [
       "<IPython.core.display.Javascript object>"
      ]
     },
     "metadata": {},
     "output_type": "display_data"
    },
    {
     "data": {
      "application/javascript": "\n        if (window._pyforest_update_imports_cell) { window._pyforest_update_imports_cell('import sklearn\\nimport matplotlib.pyplot as plt'); }\n    ",
      "text/plain": [
       "<IPython.core.display.Javascript object>"
      ]
     },
     "metadata": {},
     "output_type": "display_data"
    },
    {
     "data": {
      "image/png": "[encoded data removed]",
      "text/plain": [
       "<Figure size 432x288 with 1 Axes>"
      ]
     },
     "metadata": {
      "needs_background": "light"
     },
     "output_type": "display_data"
    }
   ],
   "source": [
    "from sklearn.metrics import roc_curve\n",
    "\n",
    "fpr, tpr, thresholds = roc_curve(y_test, y_pred_probs)  # fpr false positive rate, tpr true positive rate\n",
    "print(f'fpr: {fpr}')\n",
    "print(f'tpr: {tpr}')\n",
    "print(f'thresholds: {thresholds}')\n",
    "\n",
    "\n",
    "plt.plot([0, 1], [0, 1], 'k--')\n",
    "plt.plot(fpr, tpr)\n",
    "plt.xlabel('False Positive Rate')\n",
    "plt.ylabel('True Positive Rate')\n",
    "plt.title('Logistic Regression ROC Curve')\n",
    "plt.show()\n"
   ]
  },
  {
   "cell_type": "markdown",
   "metadata": {},
   "source": [
    "## ROC AUC - Evaluating how well the model performs\n",
    "\n",
    "The area under the ROC gives an indication of how well the model fit the data. Higher ROC AUC is preferred (max is 1)"
   ]
  },
  {
   "cell_type": "code",
   "execution_count": 42,
   "metadata": {},
   "outputs": [
    {
     "name": "stdout",
     "output_type": "stream",
     "text": [
      "1.0\n"
     ]
    }
   ],
   "source": [
    "# ROC AUC in scikit-learn\n",
    "\n",
    "from sklearn.metrics import roc_auc_score\n",
    "print(roc_auc_score(y_test, y_pred_probs))"
   ]
  },
  {
   "cell_type": "code",
   "execution_count": null,
   "metadata": {},
   "outputs": [],
   "source": []
  },
  {
   "cell_type": "markdown",
   "metadata": {},
   "source": [
    "# SCALE the process"
   ]
  },
  {
   "cell_type": "markdown",
   "metadata": {},
   "source": [
    "## define run_logistic_regression() \n",
    "\n",
    "and test using example dataset"
   ]
  },
  {
   "cell_type": "code",
   "execution_count": 6,
   "metadata": {},
   "outputs": [
    {
     "name": "stdout",
     "output_type": "stream",
     "text": [
      "target is chocolate\n",
      "features is ['fruity', 'caramel', 'peanutyalmondy', 'nougat', 'crispedricewafer', 'hard', 'bar', 'pluribus', 'sugarpercent', 'pricepercent', 'winpercent']\n",
      "Accuracy: 94.1%\n",
      "Classification Report:\n",
      "               precision    recall  f1-score   support\n",
      "\n",
      "           0       0.90      1.00      0.95         9\n",
      "           1       1.00      0.88      0.93         8\n",
      "\n",
      "    accuracy                           0.94        17\n",
      "   macro avg       0.95      0.94      0.94        17\n",
      "weighted avg       0.95      0.94      0.94        17\n",
      "\n",
      "y predictions are {y_pred_probs}\n",
      "fpr: [0. 0. 0. 1.]\n",
      "tpr: [0.    0.125 1.    1.   ]\n",
      "thresholds: [1.99585209 0.99585209 0.48319588 0.0074967 ]\n"
     ]
    },
    {
     "data": {
      "application/javascript": "\n        if (window._pyforest_update_imports_cell) { window._pyforest_update_imports_cell('import matplotlib.pyplot as plt'); }\n    ",
      "text/plain": [
       "<IPython.core.display.Javascript object>"
      ]
     },
     "metadata": {},
     "output_type": "display_data"
    },
    {
     "data": {
      "application/javascript": "\n        if (window._pyforest_update_imports_cell) { window._pyforest_update_imports_cell('import matplotlib.pyplot as plt'); }\n    ",
      "text/plain": [
       "<IPython.core.display.Javascript object>"
      ]
     },
     "metadata": {},
     "output_type": "display_data"
    },
    {
     "data": {
      "application/javascript": "\n        if (window._pyforest_update_imports_cell) { window._pyforest_update_imports_cell('import matplotlib.pyplot as plt'); }\n    ",
      "text/plain": [
       "<IPython.core.display.Javascript object>"
      ]
     },
     "metadata": {},
     "output_type": "display_data"
    },
    {
     "data": {
      "application/javascript": "\n        if (window._pyforest_update_imports_cell) { window._pyforest_update_imports_cell('import matplotlib.pyplot as plt'); }\n    ",
      "text/plain": [
       "<IPython.core.display.Javascript object>"
      ]
     },
     "metadata": {},
     "output_type": "display_data"
    },
    {
     "data": {
      "application/javascript": "\n        if (window._pyforest_update_imports_cell) { window._pyforest_update_imports_cell('import matplotlib.pyplot as plt'); }\n    ",
      "text/plain": [
       "<IPython.core.display.Javascript object>"
      ]
     },
     "metadata": {},
     "output_type": "display_data"
    },
    {
     "data": {
      "application/javascript": "\n        if (window._pyforest_update_imports_cell) { window._pyforest_update_imports_cell('import matplotlib.pyplot as plt'); }\n    ",
      "text/plain": [
       "<IPython.core.display.Javascript object>"
      ]
     },
     "metadata": {},
     "output_type": "display_data"
    },
    {
     "data": {
      "image/png": "[encoded data removed]",
      "text/plain": [
       "<Figure size 432x288 with 1 Axes>"
      ]
     },
     "metadata": {
      "needs_background": "light"
     },
     "output_type": "display_data"
    },
    {
     "name": "stdout",
     "output_type": "stream",
     "text": [
      "The roc_auc_score is 1.0\n"
     ]
    }
   ],
   "source": [
    "###parameter inputs\n",
    "# 1. specify the csv of data\n",
    "# csv_data_path = 'candy-data.csv' #\n",
    "# target_var = 'chocolate'\n",
    "\n",
    "def run_logistic_regression(csv_data_path, target):\n",
    "#############################################################\n",
    "\n",
    "    import pandas as pd\n",
    "    from sklearn.model_selection import train_test_split\n",
    "    from sklearn.preprocessing import StandardScaler\n",
    "    from sklearn.linear_model import LogisticRegression\n",
    "    from sklearn.metrics import accuracy_score, classification_report\n",
    "\n",
    "\n",
    "    # Load your preprocessed dataset\n",
    "    data = pd.read_csv(csv_data_path)\n",
    "    # print(data.head(3))\n",
    "    # data.info()\n",
    "    # data.columns\n",
    "    # data.describe()\n",
    "\n",
    "    # select only integer and float columns to train on\n",
    "    data_model = data.select_dtypes([\"int\", float])\n",
    "\n",
    "    col_names = list(data_model.columns)\n",
    "    # Define features and target variable\n",
    "    # target_var = 'chocolate'\n",
    "\n",
    "    col_names.remove(target)\n",
    "    features = col_names  # Add relevant features\n",
    "\n",
    "    print(f'target is {target}')\n",
    "    print(f'features is {features}')\n",
    "\n",
    "\n",
    "    # Split the data into training and testing sets\n",
    "    X = data[features]\n",
    "    y = data[target]\n",
    "    X_train, X_test, y_train, y_test = train_test_split(X, y, test_size=0.2, random_state=42)\n",
    "\n",
    "    # Standardize the features\n",
    "    scaler = StandardScaler()\n",
    "    X_train_scaled = scaler.fit_transform(X_train)\n",
    "    X_test_scaled = scaler.transform(X_test)\n",
    "\n",
    "    # Build and train the logistic regression model\n",
    "    model = LogisticRegression()\n",
    "    model.fit(X_train_scaled, y_train)\n",
    "\n",
    "    # Make predictions on the test set\n",
    "    y_pred = model.predict(X_test_scaled)\n",
    "\n",
    "    # Evaluate the model\n",
    "    accuracy = accuracy_score(y_test, y_pred)\n",
    "    classification_rep = classification_report(y_test, y_pred)\n",
    "\n",
    "    print(f\"Accuracy: {accuracy:.1%}\")\n",
    "    print(\"Classification Report:\\n\", classification_rep)\n",
    "\n",
    "    y_pred_probs = model.predict_proba(X_test_scaled)[:,1] # take all rows but take the second column index '1' representing the probabiltiies for the positive outcome\n",
    "    print('y predictions are {y_pred_probs}')\n",
    "\n",
    "    # evaluate how good the model is, plot the ROC curve\n",
    "    from sklearn.metrics import roc_curve\n",
    "\n",
    "    fpr, tpr, thresholds = roc_curve(y_test, y_pred_probs)  # fpr false positive rate, tpr true positive rate\n",
    "    print(f'fpr: {fpr}')\n",
    "    print(f'tpr: {tpr}')\n",
    "    print(f'thresholds: {thresholds}')\n",
    "\n",
    "\n",
    "    plt.plot([0, 1], [0, 1], 'k--')\n",
    "    plt.plot(fpr, tpr)\n",
    "    plt.xlabel('False Positive Rate')\n",
    "    plt.ylabel('True Positive Rate')\n",
    "    plt.title('Logistic Regression ROC Curve')\n",
    "    plt.show()\n",
    "\n",
    "\n",
    "    # calculate the area under the ROC curve (\"ROC AUC\"), positive means better than a random guess (baseline), 1 = perfect model\n",
    "\n",
    "    from sklearn.metrics import roc_auc_score\n",
    "    print('The roc_auc_score is {}'.format(roc_auc_score(y_test, y_pred_probs)))\n",
    "\n",
    "\n",
    "run_logistic_regression(csv_data_path = 'candy-data.csv', target = 'chocolate')\n"
   ]
  },
  {
   "cell_type": "markdown",
   "metadata": {},
   "source": [
    "## try with epi_r (dataset 2) - WIP data needs proprocessing\n",
    "\n",
    "- Epicurious - Recipes with Rating and Nutrition see https://www.kaggle.com/datasets/hugodarwood/epirecipes\n",
    "- Target - #cakeweek (Can you predict whether a recipe was part of #cakeweek based on whether it its other features?)"
   ]
  },
  {
   "cell_type": "code",
   "execution_count": 5,
   "metadata": {},
   "outputs": [
    {
     "name": "stdout",
     "output_type": "stream",
     "text": [
      "                                         title  rating  calories  protein  \\\n",
      "0              Lentil, Apple, and Turkey Wrap    2.500     426.0     30.0   \n",
      "1  Boudin Blanc Terrine with Red Onion Confit    4.375     403.0     18.0   \n",
      "2                Potato and Fennel Soup Hodge    3.750     165.0      6.0   \n",
      "\n",
      "    fat  sodium  #cakeweek  #wasteless  22-minute meals  3-ingredient recipes  \\\n",
      "0   7.0   559.0        0.0         0.0              0.0                   0.0   \n",
      "1  23.0  1439.0        0.0         0.0              0.0                   0.0   \n",
      "2   7.0   165.0        0.0         0.0              0.0                   0.0   \n",
      "\n",
      "   ...  yellow squash  yogurt  yonkers  yuca  zucchini  cookbooks  leftovers  \\\n",
      "0  ...            0.0     0.0      0.0   0.0       0.0        0.0        0.0   \n",
      "1  ...            0.0     0.0      0.0   0.0       0.0        0.0        0.0   \n",
      "2  ...            0.0     0.0      0.0   0.0       0.0        0.0        0.0   \n",
      "\n",
      "   snack  snack week  turkey  \n",
      "0    0.0         0.0     1.0  \n",
      "1    0.0         0.0     0.0  \n",
      "2    0.0         0.0     0.0  \n",
      "\n",
      "[3 rows x 680 columns]\n",
      "<class 'pandas.core.frame.DataFrame'>\n",
      "RangeIndex: 20052 entries, 0 to 20051\n",
      "Columns: 680 entries, title to turkey\n",
      "dtypes: float64(679), object(1)\n",
      "memory usage: 104.0+ MB\n"
     ]
    },
    {
     "data": {
      "text/html": [
       "<div>\n",
       "<style scoped>\n",
       "    .dataframe tbody tr th:only-of-type {\n",
       "        vertical-align: middle;\n",
       "    }\n",
       "\n",
       "    .dataframe tbody tr th {\n",
       "        vertical-align: top;\n",
       "    }\n",
       "\n",
       "    .dataframe thead th {\n",
       "        text-align: right;\n",
       "    }\n",
       "</style>\n",
       "<table border=\"1\" class=\"dataframe\">\n",
       "  <thead>\n",
       "    <tr style=\"text-align: right;\">\n",
       "      <th></th>\n",
       "      <th>rating</th>\n",
       "      <th>calories</th>\n",
       "      <th>protein</th>\n",
       "      <th>fat</th>\n",
       "      <th>sodium</th>\n",
       "      <th>#cakeweek</th>\n",
       "      <th>#wasteless</th>\n",
       "      <th>22-minute meals</th>\n",
       "      <th>3-ingredient recipes</th>\n",
       "      <th>30 days of groceries</th>\n",
       "      <th>...</th>\n",
       "      <th>yellow squash</th>\n",
       "      <th>yogurt</th>\n",
       "      <th>yonkers</th>\n",
       "      <th>yuca</th>\n",
       "      <th>zucchini</th>\n",
       "      <th>cookbooks</th>\n",
       "      <th>leftovers</th>\n",
       "      <th>snack</th>\n",
       "      <th>snack week</th>\n",
       "      <th>turkey</th>\n",
       "    </tr>\n",
       "  </thead>\n",
       "  <tbody>\n",
       "    <tr>\n",
       "      <th>count</th>\n",
       "      <td>20052.000000</td>\n",
       "      <td>1.593500e+04</td>\n",
       "      <td>15890.000000</td>\n",
       "      <td>1.586900e+04</td>\n",
       "      <td>1.593300e+04</td>\n",
       "      <td>20052.000000</td>\n",
       "      <td>20052.000000</td>\n",
       "      <td>20052.000000</td>\n",
       "      <td>20052.000000</td>\n",
       "      <td>20052.000000</td>\n",
       "      <td>...</td>\n",
       "      <td>20052.000000</td>\n",
       "      <td>20052.000000</td>\n",
       "      <td>20052.000000</td>\n",
       "      <td>20052.000000</td>\n",
       "      <td>20052.000000</td>\n",
       "      <td>20052.000000</td>\n",
       "      <td>20052.000000</td>\n",
       "      <td>20052.000000</td>\n",
       "      <td>20052.000000</td>\n",
       "      <td>20052.000000</td>\n",
       "    </tr>\n",
       "    <tr>\n",
       "      <th>mean</th>\n",
       "      <td>3.714467</td>\n",
       "      <td>6.322958e+03</td>\n",
       "      <td>100.160793</td>\n",
       "      <td>3.468775e+02</td>\n",
       "      <td>6.225975e+03</td>\n",
       "      <td>0.000299</td>\n",
       "      <td>0.000050</td>\n",
       "      <td>0.000848</td>\n",
       "      <td>0.001346</td>\n",
       "      <td>0.000349</td>\n",
       "      <td>...</td>\n",
       "      <td>0.001247</td>\n",
       "      <td>0.026332</td>\n",
       "      <td>0.000050</td>\n",
       "      <td>0.000299</td>\n",
       "      <td>0.014861</td>\n",
       "      <td>0.000150</td>\n",
       "      <td>0.000349</td>\n",
       "      <td>0.001396</td>\n",
       "      <td>0.000948</td>\n",
       "      <td>0.022741</td>\n",
       "    </tr>\n",
       "    <tr>\n",
       "      <th>std</th>\n",
       "      <td>1.340829</td>\n",
       "      <td>3.590460e+05</td>\n",
       "      <td>3840.318527</td>\n",
       "      <td>2.045611e+04</td>\n",
       "      <td>3.333182e+05</td>\n",
       "      <td>0.017296</td>\n",
       "      <td>0.007062</td>\n",
       "      <td>0.029105</td>\n",
       "      <td>0.036671</td>\n",
       "      <td>0.018681</td>\n",
       "      <td>...</td>\n",
       "      <td>0.035288</td>\n",
       "      <td>0.160123</td>\n",
       "      <td>0.007062</td>\n",
       "      <td>0.017296</td>\n",
       "      <td>0.121001</td>\n",
       "      <td>0.012231</td>\n",
       "      <td>0.018681</td>\n",
       "      <td>0.037343</td>\n",
       "      <td>0.030768</td>\n",
       "      <td>0.149080</td>\n",
       "    </tr>\n",
       "    <tr>\n",
       "      <th>min</th>\n",
       "      <td>0.000000</td>\n",
       "      <td>0.000000e+00</td>\n",
       "      <td>0.000000</td>\n",
       "      <td>0.000000e+00</td>\n",
       "      <td>0.000000e+00</td>\n",
       "      <td>0.000000</td>\n",
       "      <td>0.000000</td>\n",
       "      <td>0.000000</td>\n",
       "      <td>0.000000</td>\n",
       "      <td>0.000000</td>\n",
       "      <td>...</td>\n",
       "      <td>0.000000</td>\n",
       "      <td>0.000000</td>\n",
       "      <td>0.000000</td>\n",
       "      <td>0.000000</td>\n",
       "      <td>0.000000</td>\n",
       "      <td>0.000000</td>\n",
       "      <td>0.000000</td>\n",
       "      <td>0.000000</td>\n",
       "      <td>0.000000</td>\n",
       "      <td>0.000000</td>\n",
       "    </tr>\n",
       "    <tr>\n",
       "      <th>25%</th>\n",
       "      <td>3.750000</td>\n",
       "      <td>1.980000e+02</td>\n",
       "      <td>3.000000</td>\n",
       "      <td>7.000000e+00</td>\n",
       "      <td>8.000000e+01</td>\n",
       "      <td>0.000000</td>\n",
       "      <td>0.000000</td>\n",
       "      <td>0.000000</td>\n",
       "      <td>0.000000</td>\n",
       "      <td>0.000000</td>\n",
       "      <td>...</td>\n",
       "      <td>0.000000</td>\n",
       "      <td>0.000000</td>\n",
       "      <td>0.000000</td>\n",
       "      <td>0.000000</td>\n",
       "      <td>0.000000</td>\n",
       "      <td>0.000000</td>\n",
       "      <td>0.000000</td>\n",
       "      <td>0.000000</td>\n",
       "      <td>0.000000</td>\n",
       "      <td>0.000000</td>\n",
       "    </tr>\n",
       "    <tr>\n",
       "      <th>50%</th>\n",
       "      <td>4.375000</td>\n",
       "      <td>3.310000e+02</td>\n",
       "      <td>8.000000</td>\n",
       "      <td>1.700000e+01</td>\n",
       "      <td>2.940000e+02</td>\n",
       "      <td>0.000000</td>\n",
       "      <td>0.000000</td>\n",
       "      <td>0.000000</td>\n",
       "      <td>0.000000</td>\n",
       "      <td>0.000000</td>\n",
       "      <td>...</td>\n",
       "      <td>0.000000</td>\n",
       "      <td>0.000000</td>\n",
       "      <td>0.000000</td>\n",
       "      <td>0.000000</td>\n",
       "      <td>0.000000</td>\n",
       "      <td>0.000000</td>\n",
       "      <td>0.000000</td>\n",
       "      <td>0.000000</td>\n",
       "      <td>0.000000</td>\n",
       "      <td>0.000000</td>\n",
       "    </tr>\n",
       "    <tr>\n",
       "      <th>75%</th>\n",
       "      <td>4.375000</td>\n",
       "      <td>5.860000e+02</td>\n",
       "      <td>27.000000</td>\n",
       "      <td>3.300000e+01</td>\n",
       "      <td>7.110000e+02</td>\n",
       "      <td>0.000000</td>\n",
       "      <td>0.000000</td>\n",
       "      <td>0.000000</td>\n",
       "      <td>0.000000</td>\n",
       "      <td>0.000000</td>\n",
       "      <td>...</td>\n",
       "      <td>0.000000</td>\n",
       "      <td>0.000000</td>\n",
       "      <td>0.000000</td>\n",
       "      <td>0.000000</td>\n",
       "      <td>0.000000</td>\n",
       "      <td>0.000000</td>\n",
       "      <td>0.000000</td>\n",
       "      <td>0.000000</td>\n",
       "      <td>0.000000</td>\n",
       "      <td>0.000000</td>\n",
       "    </tr>\n",
       "    <tr>\n",
       "      <th>max</th>\n",
       "      <td>5.000000</td>\n",
       "      <td>3.011122e+07</td>\n",
       "      <td>236489.000000</td>\n",
       "      <td>1.722763e+06</td>\n",
       "      <td>2.767511e+07</td>\n",
       "      <td>1.000000</td>\n",
       "      <td>1.000000</td>\n",
       "      <td>1.000000</td>\n",
       "      <td>1.000000</td>\n",
       "      <td>1.000000</td>\n",
       "      <td>...</td>\n",
       "      <td>1.000000</td>\n",
       "      <td>1.000000</td>\n",
       "      <td>1.000000</td>\n",
       "      <td>1.000000</td>\n",
       "      <td>1.000000</td>\n",
       "      <td>1.000000</td>\n",
       "      <td>1.000000</td>\n",
       "      <td>1.000000</td>\n",
       "      <td>1.000000</td>\n",
       "      <td>1.000000</td>\n",
       "    </tr>\n",
       "  </tbody>\n",
       "</table>\n",
       "<p>8 rows × 679 columns</p>\n",
       "</div>"
      ],
      "text/plain": [
       "             rating      calories        protein           fat        sodium  \\\n",
       "count  20052.000000  1.593500e+04   15890.000000  1.586900e+04  1.593300e+04   \n",
       "mean       3.714467  6.322958e+03     100.160793  3.468775e+02  6.225975e+03   \n",
       "std        1.340829  3.590460e+05    3840.318527  2.045611e+04  3.333182e+05   \n",
       "min        0.000000  0.000000e+00       0.000000  0.000000e+00  0.000000e+00   \n",
       "25%        3.750000  1.980000e+02       3.000000  7.000000e+00  8.000000e+01   \n",
       "50%        4.375000  3.310000e+02       8.000000  1.700000e+01  2.940000e+02   \n",
       "75%        4.375000  5.860000e+02      27.000000  3.300000e+01  7.110000e+02   \n",
       "max        5.000000  3.011122e+07  236489.000000  1.722763e+06  2.767511e+07   \n",
       "\n",
       "          #cakeweek    #wasteless  22-minute meals  3-ingredient recipes  \\\n",
       "count  20052.000000  20052.000000     20052.000000          20052.000000   \n",
       "mean       0.000299      0.000050         0.000848              0.001346   \n",
       "std        0.017296      0.007062         0.029105              0.036671   \n",
       "min        0.000000      0.000000         0.000000              0.000000   \n",
       "25%        0.000000      0.000000         0.000000              0.000000   \n",
       "50%        0.000000      0.000000         0.000000              0.000000   \n",
       "75%        0.000000      0.000000         0.000000              0.000000   \n",
       "max        1.000000      1.000000         1.000000              1.000000   \n",
       "\n",
       "       30 days of groceries  ...  yellow squash        yogurt       yonkers  \\\n",
       "count          20052.000000  ...   20052.000000  20052.000000  20052.000000   \n",
       "mean               0.000349  ...       0.001247      0.026332      0.000050   \n",
       "std                0.018681  ...       0.035288      0.160123      0.007062   \n",
       "min                0.000000  ...       0.000000      0.000000      0.000000   \n",
       "25%                0.000000  ...       0.000000      0.000000      0.000000   \n",
       "50%                0.000000  ...       0.000000      0.000000      0.000000   \n",
       "75%                0.000000  ...       0.000000      0.000000      0.000000   \n",
       "max                1.000000  ...       1.000000      1.000000      1.000000   \n",
       "\n",
       "               yuca      zucchini     cookbooks     leftovers         snack  \\\n",
       "count  20052.000000  20052.000000  20052.000000  20052.000000  20052.000000   \n",
       "mean       0.000299      0.014861      0.000150      0.000349      0.001396   \n",
       "std        0.017296      0.121001      0.012231      0.018681      0.037343   \n",
       "min        0.000000      0.000000      0.000000      0.000000      0.000000   \n",
       "25%        0.000000      0.000000      0.000000      0.000000      0.000000   \n",
       "50%        0.000000      0.000000      0.000000      0.000000      0.000000   \n",
       "75%        0.000000      0.000000      0.000000      0.000000      0.000000   \n",
       "max        1.000000      1.000000      1.000000      1.000000      1.000000   \n",
       "\n",
       "         snack week        turkey  \n",
       "count  20052.000000  20052.000000  \n",
       "mean       0.000948      0.022741  \n",
       "std        0.030768      0.149080  \n",
       "min        0.000000      0.000000  \n",
       "25%        0.000000      0.000000  \n",
       "50%        0.000000      0.000000  \n",
       "75%        0.000000      0.000000  \n",
       "max        1.000000      1.000000  \n",
       "\n",
       "[8 rows x 679 columns]"
      ]
     },
     "execution_count": 5,
     "metadata": {},
     "output_type": "execute_result"
    }
   ],
   "source": [
    "###parameter inputs\n",
    "# 1. specify the csv of data\n",
    "csv_data_path = 'epi_r.csv' #\n",
    "#############################################################\n",
    "\n",
    "import pandas as pd\n",
    "from sklearn.model_selection import train_test_split\n",
    "from sklearn.preprocessing import StandardScaler\n",
    "from sklearn.linear_model import LogisticRegression\n",
    "from sklearn.metrics import accuracy_score, classification_report\n",
    "\n",
    "# Load your preprocessed dataset\n",
    "data = pd.read_csv(csv_data_path)\n",
    "print(data.head(3))\n",
    "data.info()\n",
    "data.columns\n",
    "data.describe()"
   ]
  },
  {
   "cell_type": "code",
   "execution_count": 7,
   "metadata": {},
   "outputs": [
    {
     "name": "stdout",
     "output_type": "stream",
     "text": [
      "target is #cakeweek\n",
      "features is ['rating', 'calories', 'protein', 'fat', 'sodium', '#wasteless', '22-minute meals', '3-ingredient recipes', '30 days of groceries', 'advance prep required', 'alabama', 'alaska', 'alcoholic', 'almond', 'amaretto', 'anchovy', 'anise', 'anniversary', 'anthony bourdain', 'aperitif', 'appetizer', 'apple', 'apple juice', 'apricot', 'arizona', 'artichoke', 'arugula', 'asian pear', 'asparagus', 'aspen', 'atlanta', 'australia', 'avocado', 'back to school', 'backyard bbq', 'bacon', 'bake', 'banana', 'barley', 'basil', 'bass', 'bastille day', 'bean', 'beef', 'beef rib', 'beef shank', 'beef tenderloin', 'beer', 'beet', 'bell pepper', 'berry', 'beverly hills', 'birthday', 'biscuit', 'bitters', 'blackberry', 'blender', 'blue cheese', 'blueberry', 'boil', 'bok choy', 'bon appétit', 'bon app��tit', 'boston', 'bourbon', 'braise', 'bran', 'brandy', 'bread', 'breadcrumbs', 'breakfast', 'brie', 'brine', 'brisket', 'broccoli', 'broccoli rabe', 'broil', 'brooklyn', 'brown rice', 'brownie', 'brunch', 'brussel sprout', 'buffalo', 'buffet', 'bulgaria', 'bulgur', 'burrito', 'butter', 'buttermilk', 'butternut squash', 'butterscotch/caramel', 'cabbage', 'cake', 'california', 'calvados', 'cambridge', 'campari', 'camping', 'canada', 'candy', 'candy thermometer', 'cantaloupe', 'capers', 'caraway', 'cardamom', 'carrot', 'cashew', 'casserole/gratin', 'cauliflower', 'caviar', 'celery', 'chambord', 'champagne', 'chard', 'chartreuse', 'cheddar', 'cheese', 'cherry', 'chestnut', 'chicago', 'chicken', 'chickpea', 'chile', 'chile pepper', 'chili', 'chill', 'chive', 'chocolate', 'christmas', 'christmas eve', 'cilantro', 'cinco de mayo', 'cinnamon', 'citrus', 'clam', 'clove', 'cobbler/crumble', 'cocktail', 'cocktail party', 'coconut', 'cod', 'coffee', 'coffee grinder', 'cognac/armagnac', 'collard greens', 'colorado', 'columbus', 'condiment', 'condiment/spread', 'connecticut', 'cook like a diner', 'cookbook critic', 'cookie', 'cookies', 'coriander', 'corn', 'cornmeal', 'costa mesa', 'cottage cheese', 'couscous', 'crab', 'cranberry', 'cranberry sauce', 'cream cheese', 'créme de cacao', 'crêpe', 'cr��me de cacao', 'cuba', 'cucumber', 'cumin', 'cupcake', 'currant', 'curry', 'custard', 'dairy', 'dairy free', 'dallas', 'date', 'deep-fry', 'denver', 'dessert', 'digestif', 'dill', 'dinner', 'dip', 'diwali', 'dominican republic', 'dorie greenspan', 'double boiler', 'dried fruit', 'drink', 'drinks', 'duck', 'easter', 'eau de vie', 'edible gift', 'egg', 'egg nog', 'eggplant', 'egypt', 'emeril lagasse', 'endive', 'engagement party', 'england', 'entertaining', 'epi + ushg', 'epi loves the microwave', 'escarole', 'fall', 'family reunion', 'fat free', \"father's day\", 'fennel', 'feta', 'fig', 'fish', 'flaming hot summer', 'flat bread', 'florida', 'fontina', 'food processor', 'fortified wine', 'fourth of july', 'france', 'frangelico', 'frankenrecipe', 'freeze/chill', 'freezer food', 'friendsgiving', 'frittata', 'fritter', 'frozen dessert', 'fruit', 'fruit juice', 'fry', 'game', 'garlic', 'georgia', 'germany', 'gin', 'ginger', 'goat cheese', 'goose', 'gouda', 'gourmet', 'graduation', 'grains', 'grand marnier', 'granola', 'grape', 'grapefruit', 'grappa', 'green bean', 'green onion/scallion', 'grill', 'grill/barbecue', 'ground beef', 'ground lamb', 'guam', 'guava', 'haiti', 'halibut', 'halloween', 'ham', 'hamburger', 'hanukkah', 'harpercollins', 'hawaii', 'hazelnut', 'healdsburg', 'healthy', 'herb', 'high fiber', 'hollywood', 'hominy/cornmeal/masa', 'honey', 'honeydew', \"hors d'oeuvre\", 'horseradish', 'hot drink', 'hot pepper', 'house & garden', 'house cocktail', 'houston', 'hummus', 'ice cream', 'ice cream machine', 'iced coffee', 'iced tea', 'idaho', 'illinois', 'indiana', 'iowa', 'ireland', 'israel', 'italy', 'jalapeño', 'jam or jelly', 'jamaica', 'japan', 'jerusalem artichoke', 'juicer', 'jícama', 'kahlúa', 'kale', 'kansas', 'kansas city', 'kentucky', 'kentucky derby', 'kid-friendly', 'kidney friendly', 'kirsch', 'kitchen olympics', 'kiwi', 'kosher', 'kosher for passover', 'kumquat', 'kwanzaa', 'labor day', 'lamb', 'lamb chop', 'lamb shank', 'lancaster', 'las vegas', 'lasagna', 'leafy green', 'leek', 'legume', 'lemon', 'lemon juice', 'lemongrass', 'lentil', 'lettuce', 'lima bean', 'lime', 'lime juice', 'lingonberry', 'liqueur', 'lobster', 'london', 'long beach', 'los angeles', 'louisiana', 'louisville', 'low cal', 'low carb', 'low cholesterol', 'low fat', 'low sodium', 'low sugar', 'low/no sugar', 'lunar new year', 'lunch', 'lychee', 'macadamia nut', 'macaroni and cheese', 'maine', 'mandoline', 'mango', 'maple syrup', 'mardi gras', 'margarita', 'marinade', 'marinate', 'marsala', 'marscarpone', 'marshmallow', 'martini', 'maryland', 'massachusetts', 'mayonnaise', 'meat', 'meatball', 'meatloaf', 'melon', 'mexico', 'mezcal', 'miami', 'michigan', 'microwave', 'midori', 'milk/cream', 'minneapolis', 'minnesota', 'mint', 'mississippi', 'missouri', 'mixer', 'molasses', 'monterey jack', 'mortar and pestle', \"mother's day\", 'mozzarella', 'muffin', 'mushroom', 'mussel', 'mustard', 'mustard greens', 'nancy silverton', 'nebraska', 'nectarine', 'new hampshire', 'new jersey', 'new mexico', 'new orleans', \"new year's day\", \"new year's eve\", 'new york', 'no meat, no problem', 'no sugar added', 'no-cook', 'non-alcoholic', 'noodle', 'north carolina', 'nut', 'nutmeg', 'oat', 'oatmeal', 'octopus', 'ohio', 'oklahoma', 'okra', 'oktoberfest', 'olive', 'omelet', 'one-pot meal', 'onion', 'orange', 'orange juice', 'oregano', 'oregon', 'organic', 'orzo', 'oscars', 'oyster', 'pacific palisades', 'paleo', 'pan-fry', 'pancake', 'papaya', 'paprika', 'parade', 'paris', 'parmesan', 'parsley', 'parsnip', 'party', 'pasadena', 'passion fruit', 'passover', 'pasta', 'pasta maker', 'pastry', 'pea', 'peach', 'peanut', 'peanut butter', 'peanut free', 'pear', 'pecan', 'pennsylvania', 'pepper', 'pernod', 'persian new year', 'persimmon', 'peru', 'pescatarian', 'philippines', 'phyllo/puff pastry dough', 'pickles', 'picnic', 'pie', 'pine nut', 'pineapple', 'pistachio', 'pittsburgh', 'pizza', 'plantain', 'plum', 'poach', 'poblano', 'poker/game night', 'pomegranate', 'pomegranate juice', 'poppy', 'pork', 'pork chop', 'pork rib', 'pork tenderloin', 'port', 'portland', 'pot pie', 'potato', 'potato salad', 'potluck', 'poultry', 'poultry sausage', 'pressure cooker', 'prosciutto', 'providence', 'prune', 'pumpkin', 'punch', 'purim', 'quail', 'quiche', 'quick & easy', 'quick and healthy', 'quince', 'quinoa', 'rabbit', 'rack of lamb', 'radicchio', 'radish', 'raisin', 'ramadan', 'ramekin', 'raspberry', 'raw', 'red wine', 'rhode island', 'rhubarb', 'rice', 'ricotta', 'roast', 'root vegetable', 'rosemary', 'rosh hashanah/yom kippur', 'rosé', 'rub', 'rum', 'rutabaga', 'rye', 'saffron', 'sage', 'sake', 'salad', 'salad dressing', 'salmon', 'salsa', 'san francisco', 'sandwich', 'sandwich theory', 'sangria', 'santa monica', 'sardine', 'sauce', 'sausage', 'sauté', 'scallop', 'scotch', 'seafood', 'seattle', 'seed', 'self', 'semolina', 'sesame', 'sesame oil', 'shallot', 'shavuot', 'shellfish', 'sherry', 'shower', 'shrimp', 'side', 'simmer', 'skewer', 'slow cooker', 'smoker', 'smoothie', 'snapper', 'sorbet', 'soufflé/meringue', 'soup/stew', 'sour cream', 'sourdough', 'south carolina', 'soy', 'soy free', 'soy sauce', 'spain', 'sparkling wine', 'spice', 'spinach', 'spirit', 'spring', 'spritzer', 'squash', 'squid', 'st. louis', \"st. patrick's day\", 'steak', 'steam', 'stew', 'stir-fry', 'stock', 'strawberry', 'stuffing/dressing', 'sugar conscious', 'sugar snap pea', 'sukkot', 'summer', 'super bowl', 'suzanne goin', 'sweet potato/yam', 'swiss cheese', 'switzerland', 'swordfish', 'taco', 'tailgating', 'tamarind', 'tangerine', 'tapioca', 'tarragon', 'tart', 'tea', 'tennessee', 'tequila', 'tested & improved', 'texas', 'thanksgiving', 'thyme', 'tilapia', 'tofu', 'tomatillo', 'tomato', 'tortillas', 'tree nut', 'tree nut free', 'triple sec', 'tropical fruit', 'trout', 'tuna', 'turnip', 'utah', \"valentine's day\", 'vanilla', 'veal', 'vegan', 'vegetable', 'vegetarian', 'venison', 'vermont', 'vermouth', 'vinegar', 'virginia', 'vodka', 'waffle', 'walnut', 'wasabi', 'washington', 'washington, d.c.', 'watercress', 'watermelon', 'wedding', 'weelicious', 'west virginia', 'westwood', 'wheat/gluten-free', 'whiskey', 'white wine', 'whole wheat', 'wild rice', 'windsor', 'wine', 'winter', 'wisconsin', 'wok', 'yellow squash', 'yogurt', 'yonkers', 'yuca', 'zucchini', 'cookbooks', 'leftovers', 'snack', 'snack week', 'turkey']\n"
     ]
    },
    {
     "ename": "ValueError",
     "evalue": "Input contains NaN, infinity or a value too large for dtype('float64').",
     "output_type": "error",
     "traceback": [
      "\u001b[1;31m---------------------------------------------------------------------------\u001b[0m",
      "\u001b[1;31mValueError\u001b[0m                                Traceback (most recent call last)",
      "\u001b[1;32mc:\\Users\\Windows PC\\OneDrive\\Python\\02. Machine Learning\\Supervised\\Logistic regression\\Logistic Regression V1.ipynb Cell 26\u001b[0m in \u001b[0;36m<cell line: 1>\u001b[1;34m()\u001b[0m\n\u001b[1;32m----> <a href='vscode-notebook-cell:/c%3A/Users/Windows%20PC/OneDrive/Python/02.%20Machine%20Learning/Supervised/Logistic%20regression/Logistic%20Regression%20V1.ipynb#X32sZmlsZQ%3D%3D?line=0'>1</a>\u001b[0m run_logistic_regression(csv_data_path \u001b[39m=\u001b[39;49m \u001b[39m'\u001b[39;49m\u001b[39mepi_r.csv\u001b[39;49m\u001b[39m'\u001b[39;49m, target \u001b[39m=\u001b[39;49m \u001b[39m'\u001b[39;49m\u001b[39m#cakeweek\u001b[39;49m\u001b[39m'\u001b[39;49m)\n",
      "\u001b[1;32mc:\\Users\\Windows PC\\OneDrive\\Python\\02. Machine Learning\\Supervised\\Logistic regression\\Logistic Regression V1.ipynb Cell 26\u001b[0m in \u001b[0;36mrun_logistic_regression\u001b[1;34m(csv_data_path, target)\u001b[0m\n\u001b[0;32m     <a href='vscode-notebook-cell:/c%3A/Users/Windows%20PC/OneDrive/Python/02.%20Machine%20Learning/Supervised/Logistic%20regression/Logistic%20Regression%20V1.ipynb#X32sZmlsZQ%3D%3D?line=46'>47</a>\u001b[0m \u001b[39m# Build and train the logistic regression model\u001b[39;00m\n\u001b[0;32m     <a href='vscode-notebook-cell:/c%3A/Users/Windows%20PC/OneDrive/Python/02.%20Machine%20Learning/Supervised/Logistic%20regression/Logistic%20Regression%20V1.ipynb#X32sZmlsZQ%3D%3D?line=47'>48</a>\u001b[0m model \u001b[39m=\u001b[39m LogisticRegression()\n\u001b[1;32m---> <a href='vscode-notebook-cell:/c%3A/Users/Windows%20PC/OneDrive/Python/02.%20Machine%20Learning/Supervised/Logistic%20regression/Logistic%20Regression%20V1.ipynb#X32sZmlsZQ%3D%3D?line=48'>49</a>\u001b[0m model\u001b[39m.\u001b[39;49mfit(X_train_scaled, y_train)\n\u001b[0;32m     <a href='vscode-notebook-cell:/c%3A/Users/Windows%20PC/OneDrive/Python/02.%20Machine%20Learning/Supervised/Logistic%20regression/Logistic%20Regression%20V1.ipynb#X32sZmlsZQ%3D%3D?line=50'>51</a>\u001b[0m \u001b[39m# Make predictions on the test set\u001b[39;00m\n\u001b[0;32m     <a href='vscode-notebook-cell:/c%3A/Users/Windows%20PC/OneDrive/Python/02.%20Machine%20Learning/Supervised/Logistic%20regression/Logistic%20Regression%20V1.ipynb#X32sZmlsZQ%3D%3D?line=51'>52</a>\u001b[0m y_pred \u001b[39m=\u001b[39m model\u001b[39m.\u001b[39mpredict(X_test_scaled)\n",
      "File \u001b[1;32me:\\Python\\lib\\site-packages\\sklearn\\linear_model\\_logistic.py:1508\u001b[0m, in \u001b[0;36mLogisticRegression.fit\u001b[1;34m(self, X, y, sample_weight)\u001b[0m\n\u001b[0;32m   1505\u001b[0m \u001b[39melse\u001b[39;00m:\n\u001b[0;32m   1506\u001b[0m     _dtype \u001b[39m=\u001b[39m [np\u001b[39m.\u001b[39mfloat64, np\u001b[39m.\u001b[39mfloat32]\n\u001b[1;32m-> 1508\u001b[0m X, y \u001b[39m=\u001b[39m \u001b[39mself\u001b[39;49m\u001b[39m.\u001b[39;49m_validate_data(\n\u001b[0;32m   1509\u001b[0m     X,\n\u001b[0;32m   1510\u001b[0m     y,\n\u001b[0;32m   1511\u001b[0m     accept_sparse\u001b[39m=\u001b[39;49m\u001b[39m\"\u001b[39;49m\u001b[39mcsr\u001b[39;49m\u001b[39m\"\u001b[39;49m,\n\u001b[0;32m   1512\u001b[0m     dtype\u001b[39m=\u001b[39;49m_dtype,\n\u001b[0;32m   1513\u001b[0m     order\u001b[39m=\u001b[39;49m\u001b[39m\"\u001b[39;49m\u001b[39mC\u001b[39;49m\u001b[39m\"\u001b[39;49m,\n\u001b[0;32m   1514\u001b[0m     accept_large_sparse\u001b[39m=\u001b[39;49msolver \u001b[39mnot\u001b[39;49;00m \u001b[39min\u001b[39;49;00m [\u001b[39m\"\u001b[39;49m\u001b[39mliblinear\u001b[39;49m\u001b[39m\"\u001b[39;49m, \u001b[39m\"\u001b[39;49m\u001b[39msag\u001b[39;49m\u001b[39m\"\u001b[39;49m, \u001b[39m\"\u001b[39;49m\u001b[39msaga\u001b[39;49m\u001b[39m\"\u001b[39;49m],\n\u001b[0;32m   1515\u001b[0m )\n\u001b[0;32m   1516\u001b[0m check_classification_targets(y)\n\u001b[0;32m   1517\u001b[0m \u001b[39mself\u001b[39m\u001b[39m.\u001b[39mclasses_ \u001b[39m=\u001b[39m np\u001b[39m.\u001b[39munique(y)\n",
      "File \u001b[1;32me:\\Python\\lib\\site-packages\\sklearn\\base.py:581\u001b[0m, in \u001b[0;36mBaseEstimator._validate_data\u001b[1;34m(self, X, y, reset, validate_separately, **check_params)\u001b[0m\n\u001b[0;32m    579\u001b[0m         y \u001b[39m=\u001b[39m check_array(y, \u001b[39m*\u001b[39m\u001b[39m*\u001b[39mcheck_y_params)\n\u001b[0;32m    580\u001b[0m     \u001b[39melse\u001b[39;00m:\n\u001b[1;32m--> 581\u001b[0m         X, y \u001b[39m=\u001b[39m check_X_y(X, y, \u001b[39m*\u001b[39m\u001b[39m*\u001b[39mcheck_params)\n\u001b[0;32m    582\u001b[0m     out \u001b[39m=\u001b[39m X, y\n\u001b[0;32m    584\u001b[0m \u001b[39mif\u001b[39;00m \u001b[39mnot\u001b[39;00m no_val_X \u001b[39mand\u001b[39;00m check_params\u001b[39m.\u001b[39mget(\u001b[39m\"\u001b[39m\u001b[39mensure_2d\u001b[39m\u001b[39m\"\u001b[39m, \u001b[39mTrue\u001b[39;00m):\n",
      "File \u001b[1;32me:\\Python\\lib\\site-packages\\sklearn\\utils\\validation.py:964\u001b[0m, in \u001b[0;36mcheck_X_y\u001b[1;34m(X, y, accept_sparse, accept_large_sparse, dtype, order, copy, force_all_finite, ensure_2d, allow_nd, multi_output, ensure_min_samples, ensure_min_features, y_numeric, estimator)\u001b[0m\n\u001b[0;32m    961\u001b[0m \u001b[39mif\u001b[39;00m y \u001b[39mis\u001b[39;00m \u001b[39mNone\u001b[39;00m:\n\u001b[0;32m    962\u001b[0m     \u001b[39mraise\u001b[39;00m \u001b[39mValueError\u001b[39;00m(\u001b[39m\"\u001b[39m\u001b[39my cannot be None\u001b[39m\u001b[39m\"\u001b[39m)\n\u001b[1;32m--> 964\u001b[0m X \u001b[39m=\u001b[39m check_array(\n\u001b[0;32m    965\u001b[0m     X,\n\u001b[0;32m    966\u001b[0m     accept_sparse\u001b[39m=\u001b[39;49maccept_sparse,\n\u001b[0;32m    967\u001b[0m     accept_large_sparse\u001b[39m=\u001b[39;49maccept_large_sparse,\n\u001b[0;32m    968\u001b[0m     dtype\u001b[39m=\u001b[39;49mdtype,\n\u001b[0;32m    969\u001b[0m     order\u001b[39m=\u001b[39;49morder,\n\u001b[0;32m    970\u001b[0m     copy\u001b[39m=\u001b[39;49mcopy,\n\u001b[0;32m    971\u001b[0m     force_all_finite\u001b[39m=\u001b[39;49mforce_all_finite,\n\u001b[0;32m    972\u001b[0m     ensure_2d\u001b[39m=\u001b[39;49mensure_2d,\n\u001b[0;32m    973\u001b[0m     allow_nd\u001b[39m=\u001b[39;49mallow_nd,\n\u001b[0;32m    974\u001b[0m     ensure_min_samples\u001b[39m=\u001b[39;49mensure_min_samples,\n\u001b[0;32m    975\u001b[0m     ensure_min_features\u001b[39m=\u001b[39;49mensure_min_features,\n\u001b[0;32m    976\u001b[0m     estimator\u001b[39m=\u001b[39;49mestimator,\n\u001b[0;32m    977\u001b[0m )\n\u001b[0;32m    979\u001b[0m y \u001b[39m=\u001b[39m _check_y(y, multi_output\u001b[39m=\u001b[39mmulti_output, y_numeric\u001b[39m=\u001b[39my_numeric)\n\u001b[0;32m    981\u001b[0m check_consistent_length(X, y)\n",
      "File \u001b[1;32me:\\Python\\lib\\site-packages\\sklearn\\utils\\validation.py:800\u001b[0m, in \u001b[0;36mcheck_array\u001b[1;34m(array, accept_sparse, accept_large_sparse, dtype, order, copy, force_all_finite, ensure_2d, allow_nd, ensure_min_samples, ensure_min_features, estimator)\u001b[0m\n\u001b[0;32m    794\u001b[0m         \u001b[39mraise\u001b[39;00m \u001b[39mValueError\u001b[39;00m(\n\u001b[0;32m    795\u001b[0m             \u001b[39m\"\u001b[39m\u001b[39mFound array with dim \u001b[39m\u001b[39m%d\u001b[39;00m\u001b[39m. \u001b[39m\u001b[39m%s\u001b[39;00m\u001b[39m expected <= 2.\u001b[39m\u001b[39m\"\u001b[39m\n\u001b[0;32m    796\u001b[0m             \u001b[39m%\u001b[39m (array\u001b[39m.\u001b[39mndim, estimator_name)\n\u001b[0;32m    797\u001b[0m         )\n\u001b[0;32m    799\u001b[0m     \u001b[39mif\u001b[39;00m force_all_finite:\n\u001b[1;32m--> 800\u001b[0m         _assert_all_finite(array, allow_nan\u001b[39m=\u001b[39;49mforce_all_finite \u001b[39m==\u001b[39;49m \u001b[39m\"\u001b[39;49m\u001b[39mallow-nan\u001b[39;49m\u001b[39m\"\u001b[39;49m)\n\u001b[0;32m    802\u001b[0m \u001b[39mif\u001b[39;00m ensure_min_samples \u001b[39m>\u001b[39m \u001b[39m0\u001b[39m:\n\u001b[0;32m    803\u001b[0m     n_samples \u001b[39m=\u001b[39m _num_samples(array)\n",
      "File \u001b[1;32me:\\Python\\lib\\site-packages\\sklearn\\utils\\validation.py:114\u001b[0m, in \u001b[0;36m_assert_all_finite\u001b[1;34m(X, allow_nan, msg_dtype)\u001b[0m\n\u001b[0;32m    107\u001b[0m     \u001b[39mif\u001b[39;00m (\n\u001b[0;32m    108\u001b[0m         allow_nan\n\u001b[0;32m    109\u001b[0m         \u001b[39mand\u001b[39;00m np\u001b[39m.\u001b[39misinf(X)\u001b[39m.\u001b[39many()\n\u001b[0;32m    110\u001b[0m         \u001b[39mor\u001b[39;00m \u001b[39mnot\u001b[39;00m allow_nan\n\u001b[0;32m    111\u001b[0m         \u001b[39mand\u001b[39;00m \u001b[39mnot\u001b[39;00m np\u001b[39m.\u001b[39misfinite(X)\u001b[39m.\u001b[39mall()\n\u001b[0;32m    112\u001b[0m     ):\n\u001b[0;32m    113\u001b[0m         type_err \u001b[39m=\u001b[39m \u001b[39m\"\u001b[39m\u001b[39minfinity\u001b[39m\u001b[39m\"\u001b[39m \u001b[39mif\u001b[39;00m allow_nan \u001b[39melse\u001b[39;00m \u001b[39m\"\u001b[39m\u001b[39mNaN, infinity\u001b[39m\u001b[39m\"\u001b[39m\n\u001b[1;32m--> 114\u001b[0m         \u001b[39mraise\u001b[39;00m \u001b[39mValueError\u001b[39;00m(\n\u001b[0;32m    115\u001b[0m             msg_err\u001b[39m.\u001b[39mformat(\n\u001b[0;32m    116\u001b[0m                 type_err, msg_dtype \u001b[39mif\u001b[39;00m msg_dtype \u001b[39mis\u001b[39;00m \u001b[39mnot\u001b[39;00m \u001b[39mNone\u001b[39;00m \u001b[39melse\u001b[39;00m X\u001b[39m.\u001b[39mdtype\n\u001b[0;32m    117\u001b[0m             )\n\u001b[0;32m    118\u001b[0m         )\n\u001b[0;32m    119\u001b[0m \u001b[39m# for object dtype data, we only check for NaNs (GH-13254)\u001b[39;00m\n\u001b[0;32m    120\u001b[0m \u001b[39melif\u001b[39;00m X\u001b[39m.\u001b[39mdtype \u001b[39m==\u001b[39m np\u001b[39m.\u001b[39mdtype(\u001b[39m\"\u001b[39m\u001b[39mobject\u001b[39m\u001b[39m\"\u001b[39m) \u001b[39mand\u001b[39;00m \u001b[39mnot\u001b[39;00m allow_nan:\n",
      "\u001b[1;31mValueError\u001b[0m: Input contains NaN, infinity or a value too large for dtype('float64')."
     ]
    }
   ],
   "source": [
    "run_logistic_regression(csv_data_path = 'epi_r.csv', target = '#cakeweek')\n"
   ]
  },
  {
   "cell_type": "code",
   "execution_count": null,
   "metadata": {},
   "outputs": [],
   "source": []
  },
  {
   "cell_type": "code",
   "execution_count": null,
   "metadata": {},
   "outputs": [],
   "source": []
  },
  {
   "cell_type": "code",
   "execution_count": null,
   "metadata": {},
   "outputs": [],
   "source": []
  },
  {
   "cell_type": "code",
   "execution_count": null,
   "metadata": {},
   "outputs": [],
   "source": []
  },
  {
   "cell_type": "code",
   "execution_count": null,
   "metadata": {},
   "outputs": [],
   "source": []
  },
  {
   "cell_type": "code",
   "execution_count": null,
   "metadata": {},
   "outputs": [],
   "source": []
  },
  {
   "cell_type": "code",
   "execution_count": null,
   "metadata": {},
   "outputs": [],
   "source": []
  },
  {
   "cell_type": "code",
   "execution_count": null,
   "metadata": {},
   "outputs": [],
   "source": []
  },
  {
   "cell_type": "code",
   "execution_count": null,
   "metadata": {},
   "outputs": [],
   "source": []
  },
  {
   "cell_type": "code",
   "execution_count": null,
   "metadata": {},
   "outputs": [],
   "source": []
  },
  {
   "cell_type": "code",
   "execution_count": null,
   "metadata": {},
   "outputs": [],
   "source": []
  },
  {
   "cell_type": "code",
   "execution_count": null,
   "metadata": {},
   "outputs": [],
   "source": []
  },
  {
   "cell_type": "code",
   "execution_count": null,
   "metadata": {},
   "outputs": [],
   "source": []
  },
  {
   "cell_type": "code",
   "execution_count": null,
   "metadata": {},
   "outputs": [],
   "source": []
  },
  {
   "cell_type": "code",
   "execution_count": null,
   "metadata": {},
   "outputs": [],
   "source": []
  },
  {
   "cell_type": "code",
   "execution_count": null,
   "metadata": {},
   "outputs": [],
   "source": []
  },
  {
   "cell_type": "code",
   "execution_count": null,
   "metadata": {},
   "outputs": [],
   "source": []
  },
  {
   "cell_type": "code",
   "execution_count": null,
   "metadata": {},
   "outputs": [],
   "source": []
  },
  {
   "cell_type": "code",
   "execution_count": null,
   "metadata": {},
   "outputs": [],
   "source": []
  },
  {
   "cell_type": "code",
   "execution_count": null,
   "metadata": {},
   "outputs": [],
   "source": []
  },
  {
   "cell_type": "code",
   "execution_count": null,
   "metadata": {},
   "outputs": [],
   "source": []
  },
  {
   "cell_type": "code",
   "execution_count": null,
   "metadata": {},
   "outputs": [],
   "source": []
  },
  {
   "cell_type": "code",
   "execution_count": null,
   "metadata": {},
   "outputs": [],
   "source": []
  },
  {
   "cell_type": "code",
   "execution_count": null,
   "metadata": {},
   "outputs": [],
   "source": []
  },
  {
   "cell_type": "code",
   "execution_count": null,
   "metadata": {},
   "outputs": [],
   "source": []
  },
  {
   "cell_type": "code",
   "execution_count": null,
   "metadata": {},
   "outputs": [],
   "source": []
  },
  {
   "cell_type": "code",
   "execution_count": null,
   "metadata": {},
   "outputs": [],
   "source": []
  },
  {
   "cell_type": "code",
   "execution_count": null,
   "metadata": {},
   "outputs": [],
   "source": []
  },
  {
   "cell_type": "code",
   "execution_count": null,
   "metadata": {},
   "outputs": [],
   "source": []
  },
  {
   "cell_type": "code",
   "execution_count": null,
   "metadata": {},
   "outputs": [],
   "source": []
  },
  {
   "cell_type": "code",
   "execution_count": null,
   "metadata": {},
   "outputs": [],
   "source": []
  },
  {
   "cell_type": "code",
   "execution_count": null,
   "metadata": {},
   "outputs": [],
   "source": []
  },
  {
   "cell_type": "code",
   "execution_count": null,
   "metadata": {},
   "outputs": [],
   "source": []
  }
 ],
 "metadata": {
  "kernelspec": {
   "display_name": "base",
   "language": "python",
   "name": "python3"
  },
  "language_info": {
   "codemirror_mode": {
    "name": "ipython",
    "version": 3
   },
   "file_extension": ".py",
   "mimetype": "text/x-python",
   "name": "python",
   "nbconvert_exporter": "python",
   "pygments_lexer": "ipython3",
   "version": "3.9.12"
  },
  "orig_nbformat": 4
 },
 "nbformat": 4,
 "nbformat_minor": 2
}
